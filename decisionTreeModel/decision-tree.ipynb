{
 "cells": [
  {
   "cell_type": "markdown",
   "metadata": {},
   "source": [
    "# 新东方\n",
    "## 监督学习\n",
    "## 项目: 学员续报估计"
   ]
  },
  {
   "cell_type": "markdown",
   "metadata": {},
   "source": [
    "----\n",
    "## 探索数据\n",
    "读取数据，可视化"
   ]
  },
  {
   "cell_type": "code",
   "execution_count": 1,
   "metadata": {},
   "outputs": [
    {
     "data": {
      "text/html": [
       "<div>\n",
       "<style scoped>\n",
       "    .dataframe tbody tr th:only-of-type {\n",
       "        vertical-align: middle;\n",
       "    }\n",
       "\n",
       "    .dataframe tbody tr th {\n",
       "        vertical-align: top;\n",
       "    }\n",
       "\n",
       "    .dataframe thead th {\n",
       "        text-align: right;\n",
       "    }\n",
       "</style>\n",
       "<table border=\"1\" class=\"dataframe\">\n",
       "  <thead>\n",
       "    <tr style=\"text-align: right;\">\n",
       "      <th></th>\n",
       "      <th>classType</th>\n",
       "      <th>markPrice</th>\n",
       "      <th>actualPayment</th>\n",
       "      <th>meanActualPayment</th>\n",
       "      <th>grade</th>\n",
       "      <th>subject</th>\n",
       "      <th>outClassTimes</th>\n",
       "      <th>classTimes</th>\n",
       "      <th>enterTimes</th>\n",
       "      <th>isEntryNextQuarter</th>\n",
       "      <th>mainTeacher</th>\n",
       "      <th>isManager</th>\n",
       "      <th>lengthOfTeaching</th>\n",
       "      <th>sex</th>\n",
       "      <th>isFourTypesTalent</th>\n",
       "      <th>education</th>\n",
       "      <th>isEntryTheFirstThreeQuarters</th>\n",
       "      <th>enrollTimesBeforeThisTime</th>\n",
       "      <th>enrollAlllSubjectTimesBeforeThisTime</th>\n",
       "    </tr>\n",
       "  </thead>\n",
       "  <tbody>\n",
       "    <tr>\n",
       "      <th>0</th>\n",
       "      <td>志高</td>\n",
       "      <td>299</td>\n",
       "      <td>299.0</td>\n",
       "      <td>100.333333</td>\n",
       "      <td>初一</td>\n",
       "      <td>数学</td>\n",
       "      <td>0</td>\n",
       "      <td>9</td>\n",
       "      <td>0</td>\n",
       "      <td>是</td>\n",
       "      <td>杨浩然</td>\n",
       "      <td>NaN</td>\n",
       "      <td>15.533333</td>\n",
       "      <td>男</td>\n",
       "      <td>是</td>\n",
       "      <td>本科</td>\n",
       "      <td>是</td>\n",
       "      <td>3</td>\n",
       "      <td>11</td>\n",
       "    </tr>\n",
       "    <tr>\n",
       "      <th>1</th>\n",
       "      <td>志高</td>\n",
       "      <td>299</td>\n",
       "      <td>1.0</td>\n",
       "      <td>100.333333</td>\n",
       "      <td>初一</td>\n",
       "      <td>语文</td>\n",
       "      <td>0</td>\n",
       "      <td>9</td>\n",
       "      <td>0</td>\n",
       "      <td>是</td>\n",
       "      <td>罗艳芬</td>\n",
       "      <td>NaN</td>\n",
       "      <td>40.300000</td>\n",
       "      <td>女</td>\n",
       "      <td>否</td>\n",
       "      <td>本科</td>\n",
       "      <td>是</td>\n",
       "      <td>4</td>\n",
       "      <td>11</td>\n",
       "    </tr>\n",
       "    <tr>\n",
       "      <th>2</th>\n",
       "      <td>志高</td>\n",
       "      <td>299</td>\n",
       "      <td>1.0</td>\n",
       "      <td>100.333333</td>\n",
       "      <td>初一</td>\n",
       "      <td>英语</td>\n",
       "      <td>0</td>\n",
       "      <td>9</td>\n",
       "      <td>0</td>\n",
       "      <td>是</td>\n",
       "      <td>郑妙云</td>\n",
       "      <td>NaN</td>\n",
       "      <td>6.433333</td>\n",
       "      <td>女</td>\n",
       "      <td>是</td>\n",
       "      <td>本科</td>\n",
       "      <td>是</td>\n",
       "      <td>4</td>\n",
       "      <td>11</td>\n",
       "    </tr>\n",
       "    <tr>\n",
       "      <th>3</th>\n",
       "      <td>精进</td>\n",
       "      <td>299</td>\n",
       "      <td>1.0</td>\n",
       "      <td>100.333333</td>\n",
       "      <td>初一</td>\n",
       "      <td>数学</td>\n",
       "      <td>0</td>\n",
       "      <td>9</td>\n",
       "      <td>0</td>\n",
       "      <td>是</td>\n",
       "      <td>戴珉</td>\n",
       "      <td>NaN</td>\n",
       "      <td>2.333333</td>\n",
       "      <td>女</td>\n",
       "      <td>否</td>\n",
       "      <td>本科</td>\n",
       "      <td>否</td>\n",
       "      <td>0</td>\n",
       "      <td>0</td>\n",
       "    </tr>\n",
       "    <tr>\n",
       "      <th>4</th>\n",
       "      <td>精进</td>\n",
       "      <td>299</td>\n",
       "      <td>1.0</td>\n",
       "      <td>100.333333</td>\n",
       "      <td>初一</td>\n",
       "      <td>语文</td>\n",
       "      <td>0</td>\n",
       "      <td>9</td>\n",
       "      <td>0</td>\n",
       "      <td>否</td>\n",
       "      <td>冼乐遥</td>\n",
       "      <td>NaN</td>\n",
       "      <td>2.333333</td>\n",
       "      <td>女</td>\n",
       "      <td>是</td>\n",
       "      <td>硕士研究生</td>\n",
       "      <td>否</td>\n",
       "      <td>0</td>\n",
       "      <td>0</td>\n",
       "    </tr>\n",
       "  </tbody>\n",
       "</table>\n",
       "</div>"
      ],
      "text/plain": [
       "  classType  markPrice  actualPayment  meanActualPayment grade subject  \\\n",
       "0        志高        299          299.0         100.333333    初一      数学   \n",
       "1        志高        299            1.0         100.333333    初一      语文   \n",
       "2        志高        299            1.0         100.333333    初一      英语   \n",
       "3        精进        299            1.0         100.333333    初一      数学   \n",
       "4        精进        299            1.0         100.333333    初一      语文   \n",
       "\n",
       "   outClassTimes  classTimes  enterTimes isEntryNextQuarter mainTeacher  \\\n",
       "0              0           9           0                  是         杨浩然   \n",
       "1              0           9           0                  是         罗艳芬   \n",
       "2              0           9           0                  是         郑妙云   \n",
       "3              0           9           0                  是          戴珉   \n",
       "4              0           9           0                  否         冼乐遥   \n",
       "\n",
       "  isManager   lengthOfTeaching sex isFourTypesTalent education  \\\n",
       "0        NaN         15.533333   男                 是        本科   \n",
       "1        NaN         40.300000   女                 否        本科   \n",
       "2        NaN          6.433333   女                 是        本科   \n",
       "3        NaN          2.333333   女                 否        本科   \n",
       "4        NaN          2.333333   女                 是     硕士研究生   \n",
       "\n",
       "  isEntryTheFirstThreeQuarters  enrollTimesBeforeThisTime  \\\n",
       "0                            是                          3   \n",
       "1                            是                          4   \n",
       "2                            是                          4   \n",
       "3                            否                          0   \n",
       "4                            否                          0   \n",
       "\n",
       "   enrollAlllSubjectTimesBeforeThisTime  \n",
       "0                                    11  \n",
       "1                                    11  \n",
       "2                                    11  \n",
       "3                                     0  \n",
       "4                                     0  "
      ]
     },
     "metadata": {},
     "output_type": "display_data"
    }
   ],
   "source": [
    "# 为这个项目导入需要的库\n",
    "import json\n",
    "import xlrd\n",
    "import numpy as np\n",
    "import pandas as pd\n",
    "from time import time\n",
    "from sklearn import preprocessing\n",
    "from sklearn.preprocessing import StandardScaler\n",
    "from sklearn.preprocessing import MinMaxScaler\n",
    "\n",
    "# 允许为DataFrame使用display()\n",
    "from IPython.display import display \n",
    "\n",
    "# 导入附加的可视化代码visuals.py\n",
    "import visuals as vs\n",
    "\n",
    "# 为notebook提供更加漂亮的可视化\n",
    "%matplotlib inline\n",
    "\n",
    "# 导入数据\n",
    "xlsx_data = pd.read_excel('data/sample2.xlsx', usecols=[3,7,8,9,11,12,17,18,22,23,25,26,27,28,31,33,34,35,36])\n",
    "\n",
    "# 重命名列名\n",
    "# '班型': 'classType',\n",
    "# '班级标价': 'markPrice', \n",
    "# '实际缴费金额': 'actualPayment', \n",
    "# '平均后实缴金额': 'meanActualPayment', \n",
    "# '年级': 'grade', \n",
    "# '科目': 'subject', \n",
    "# '离班课次': 'outClassTimes', \n",
    "# '课次': 'classTimes', \n",
    "# '进班课次': 'enterTimes', \n",
    "# '是否报下个季度': 'isEntryNextQuarter', \n",
    "# '主代课教师': 'mainTeacher', \n",
    "# '是否管理者': 'isManager ', \n",
    "# '教师教龄（月）': 'lengthOfTeaching', \n",
    "# '教师性别': 'sex', \n",
    "# '是否是四类人才': 'isFourTypesTalent', \n",
    "# '学历': 'education', \n",
    "# '学员前三季度是否报读': 'isEntryTheFirstThreeQuarters', \n",
    "# '学员本次报读前报读过多少次本科目': 'enrollTimesBeforeThisTime', \n",
    "# '学员本次报读前报读过多少次全部科目': 'enrollAlllSubjectTimesBeforeThisTime'\n",
    "xlsx_data.rename(columns={'班型': 'classType', '班级标价': 'markPrice', '实际缴费金额': 'actualPayment', '平均后实缴金额': 'meanActualPayment', '年级': 'grade', '科目': 'subject', '离班课次': 'outClassTimes', '课次': 'classTimes', '进班课次': 'enterTimes', '是否报下个季度': 'isEntryNextQuarter', '主代课教师': 'mainTeacher', '是否管理者': 'isManager ', '教师教龄（月）': 'lengthOfTeaching', '教师性别': 'sex', '是否是四类人才': 'isFourTypesTalent', '学历': 'education', '学员前三季度是否报读': 'isEntryTheFirstThreeQuarters', '学员本次报读前报读过多少次本科目': 'enrollTimesBeforeThisTime', '学员本次报读前报读过多少次全部科目': 'enrollAlllSubjectTimesBeforeThisTime'}, inplace=True)\n",
    "\n",
    "# 成功 - 显示第一条记录\n",
    "display(xlsx_data.head())"
   ]
  },
  {
   "cell_type": "markdown",
   "metadata": {},
   "source": [
    "----\n",
    "## 准备数据"
   ]
  },
  {
   "cell_type": "code",
   "execution_count": 2,
   "metadata": {
    "scrolled": true
   },
   "outputs": [
    {
     "data": {
      "text/plain": [
       "0    是\n",
       "1    是\n",
       "2    是\n",
       "3    是\n",
       "4    否\n",
       "5    是\n",
       "Name: isEntryNextQuarter, dtype: object"
      ]
     },
     "metadata": {},
     "output_type": "display_data"
    }
   ],
   "source": [
    "# 将数据切分成特征和对应的标签\n",
    "out_raw = xlsx_data['isEntryNextQuarter']\n",
    "features_raw = xlsx_data.drop('isEntryNextQuarter',axis = 1)\n",
    "display(out_raw.head(n=6))"
   ]
  },
  {
   "cell_type": "markdown",
   "metadata": {},
   "source": [
    "## 归一化数字特征"
   ]
  },
  {
   "cell_type": "code",
   "execution_count": 3,
   "metadata": {},
   "outputs": [
    {
     "data": {
      "text/html": [
       "<div>\n",
       "<style scoped>\n",
       "    .dataframe tbody tr th:only-of-type {\n",
       "        vertical-align: middle;\n",
       "    }\n",
       "\n",
       "    .dataframe tbody tr th {\n",
       "        vertical-align: top;\n",
       "    }\n",
       "\n",
       "    .dataframe thead th {\n",
       "        text-align: right;\n",
       "    }\n",
       "</style>\n",
       "<table border=\"1\" class=\"dataframe\">\n",
       "  <thead>\n",
       "    <tr style=\"text-align: right;\">\n",
       "      <th></th>\n",
       "      <th>classType</th>\n",
       "      <th>markPrice</th>\n",
       "      <th>actualPayment</th>\n",
       "      <th>meanActualPayment</th>\n",
       "      <th>grade</th>\n",
       "      <th>subject</th>\n",
       "      <th>outClassTimes</th>\n",
       "      <th>classTimes</th>\n",
       "      <th>enterTimes</th>\n",
       "      <th>mainTeacher</th>\n",
       "      <th>isManager</th>\n",
       "      <th>lengthOfTeaching</th>\n",
       "      <th>sex</th>\n",
       "      <th>isFourTypesTalent</th>\n",
       "      <th>education</th>\n",
       "      <th>isEntryTheFirstThreeQuarters</th>\n",
       "      <th>enrollTimesBeforeThisTime</th>\n",
       "      <th>enrollAlllSubjectTimesBeforeThisTime</th>\n",
       "    </tr>\n",
       "  </thead>\n",
       "  <tbody>\n",
       "    <tr>\n",
       "      <th>0</th>\n",
       "      <td>志高</td>\n",
       "      <td>0.151093</td>\n",
       "      <td>0.599709</td>\n",
       "      <td>0.286089</td>\n",
       "      <td>初一</td>\n",
       "      <td>数学</td>\n",
       "      <td>0.0</td>\n",
       "      <td>0.0</td>\n",
       "      <td>0.0</td>\n",
       "      <td>杨浩然</td>\n",
       "      <td>NaN</td>\n",
       "      <td>0.124058</td>\n",
       "      <td>男</td>\n",
       "      <td>是</td>\n",
       "      <td>本科</td>\n",
       "      <td>是</td>\n",
       "      <td>0.176471</td>\n",
       "      <td>0.261905</td>\n",
       "    </tr>\n",
       "  </tbody>\n",
       "</table>\n",
       "</div>"
      ],
      "text/plain": [
       "  classType  markPrice  actualPayment  meanActualPayment grade subject  \\\n",
       "0        志高   0.151093       0.599709           0.286089    初一      数学   \n",
       "\n",
       "   outClassTimes  classTimes  enterTimes mainTeacher isManager   \\\n",
       "0            0.0         0.0         0.0         杨浩然        NaN   \n",
       "\n",
       "   lengthOfTeaching sex isFourTypesTalent education  \\\n",
       "0          0.124058   男                 是        本科   \n",
       "\n",
       "  isEntryTheFirstThreeQuarters  enrollTimesBeforeThisTime  \\\n",
       "0                            是                   0.176471   \n",
       "\n",
       "   enrollAlllSubjectTimesBeforeThisTime  \n",
       "0                              0.261905  "
      ]
     },
     "metadata": {},
     "output_type": "display_data"
    }
   ],
   "source": [
    "#初始化一个归一化模型 ,并将它施加到特征上\n",
    "scaler = MinMaxScaler()\n",
    "numerical = ['markPrice', 'actualPayment', 'meanActualPayment', 'outClassTimes', 'classTimes', 'enterTimes', 'lengthOfTeaching', 'enrollTimesBeforeThisTime', 'enrollAlllSubjectTimesBeforeThisTime']\n",
    "features_raw[numerical] = scaler.fit_transform(xlsx_data[numerical])\n",
    "\n",
    "# 显示一个经过缩放的样本记录\n",
    "display(features_raw.head(n=1))\n"
   ]
  },
  {
   "cell_type": "markdown",
   "metadata": {},
   "source": [
    "## 非数字特征进行独热编码"
   ]
  },
  {
   "cell_type": "code",
   "execution_count": 4,
   "metadata": {},
   "outputs": [
    {
     "data": {
      "text/html": [
       "<div>\n",
       "<style scoped>\n",
       "    .dataframe tbody tr th:only-of-type {\n",
       "        vertical-align: middle;\n",
       "    }\n",
       "\n",
       "    .dataframe tbody tr th {\n",
       "        vertical-align: top;\n",
       "    }\n",
       "\n",
       "    .dataframe thead th {\n",
       "        text-align: right;\n",
       "    }\n",
       "</style>\n",
       "<table border=\"1\" class=\"dataframe\">\n",
       "  <thead>\n",
       "    <tr style=\"text-align: right;\">\n",
       "      <th></th>\n",
       "      <th>markPrice</th>\n",
       "      <th>actualPayment</th>\n",
       "      <th>meanActualPayment</th>\n",
       "      <th>outClassTimes</th>\n",
       "      <th>classTimes</th>\n",
       "      <th>enterTimes</th>\n",
       "      <th>lengthOfTeaching</th>\n",
       "      <th>enrollTimesBeforeThisTime</th>\n",
       "      <th>enrollAlllSubjectTimesBeforeThisTime</th>\n",
       "      <th>classType_志高</th>\n",
       "      <th>...</th>\n",
       "      <th>sex_nan</th>\n",
       "      <th>isFourTypesTalent_否</th>\n",
       "      <th>isFourTypesTalent_是</th>\n",
       "      <th>isFourTypesTalent_nan</th>\n",
       "      <th>education_本科</th>\n",
       "      <th>education_硕士研究生</th>\n",
       "      <th>education_nan</th>\n",
       "      <th>isEntryTheFirstThreeQuarters_否</th>\n",
       "      <th>isEntryTheFirstThreeQuarters_是</th>\n",
       "      <th>isEntryTheFirstThreeQuarters_nan</th>\n",
       "    </tr>\n",
       "  </thead>\n",
       "  <tbody>\n",
       "    <tr>\n",
       "      <th>0</th>\n",
       "      <td>0.151093</td>\n",
       "      <td>0.599709</td>\n",
       "      <td>0.286089</td>\n",
       "      <td>0.0</td>\n",
       "      <td>0.0</td>\n",
       "      <td>0.0</td>\n",
       "      <td>0.124058</td>\n",
       "      <td>0.176471</td>\n",
       "      <td>0.261905</td>\n",
       "      <td>1</td>\n",
       "      <td>...</td>\n",
       "      <td>0</td>\n",
       "      <td>0</td>\n",
       "      <td>1</td>\n",
       "      <td>0</td>\n",
       "      <td>1</td>\n",
       "      <td>0</td>\n",
       "      <td>0</td>\n",
       "      <td>0</td>\n",
       "      <td>1</td>\n",
       "      <td>0</td>\n",
       "    </tr>\n",
       "  </tbody>\n",
       "</table>\n",
       "<p>1 rows × 290 columns</p>\n",
       "</div>"
      ],
      "text/plain": [
       "   markPrice  actualPayment  meanActualPayment  outClassTimes  classTimes  \\\n",
       "0   0.151093       0.599709           0.286089            0.0         0.0   \n",
       "\n",
       "   enterTimes  lengthOfTeaching  enrollTimesBeforeThisTime  \\\n",
       "0         0.0          0.124058                   0.176471   \n",
       "\n",
       "   enrollAlllSubjectTimesBeforeThisTime  classType_志高  ...  sex_nan  \\\n",
       "0                              0.261905             1  ...        0   \n",
       "\n",
       "   isFourTypesTalent_否  isFourTypesTalent_是  isFourTypesTalent_nan  \\\n",
       "0                    0                    1                      0   \n",
       "\n",
       "   education_本科  education_硕士研究生  education_nan  \\\n",
       "0             1                0              0   \n",
       "\n",
       "   isEntryTheFirstThreeQuarters_否  isEntryTheFirstThreeQuarters_是  \\\n",
       "0                               0                               1   \n",
       "\n",
       "   isEntryTheFirstThreeQuarters_nan  \n",
       "0                                 0  \n",
       "\n",
       "[1 rows x 290 columns]"
      ]
     },
     "metadata": {},
     "output_type": "display_data"
    },
    {
     "data": {
      "text/plain": [
       "0    1\n",
       "1    1\n",
       "2    1\n",
       "3    1\n",
       "4    0\n",
       "5    1\n",
       "Name: isEntryNextQuarter, dtype: int64"
      ]
     },
     "metadata": {},
     "output_type": "display_data"
    }
   ],
   "source": [
    "# 使用 pandas.get_dummires() 方法对‘features_raw’非数字特征数据进行独热编码\n",
    "X = pd.get_dummies(features_raw, dummy_na=True)\n",
    "\n",
    "# 将预测值编码为 数字\n",
    "Y = out_raw.map({'是': 1, '否': 0})\n",
    "\n",
    "display(X.head(n=1))\n",
    "\n",
    "display(Y.head(n=6))"
   ]
  },
  {
   "cell_type": "markdown",
   "metadata": {},
   "source": [
    "### 混洗和切分数据\n",
    "将数据（包括特征和它们的标签）切分成训练和测试集。其中80%的数据将用于训练和20%的数据用于测试。然后再进一步把训练数据分为训练集和验证集，用来选择和优化模型。"
   ]
  },
  {
   "cell_type": "code",
   "execution_count": 5,
   "metadata": {},
   "outputs": [
    {
     "name": "stdout",
     "output_type": "stream",
     "text": [
      "Training set has 16937 samples.\n",
      "Validation set has 4235 samples.\n",
      "Testing set has 5293 samples.\n"
     ]
    }
   ],
   "source": [
    "# 导入 train_test_split\n",
    "from sklearn.model_selection import train_test_split\n",
    "\n",
    "# 将'X'和'Y'数据切分成训练集和测试集\n",
    "X_train, X_test, y_train, y_test = train_test_split(X, Y, test_size = 0.2, random_state = 0,\n",
    "                                                    stratify = Y)\n",
    "# 将'X_train'和'y_train'进一步切分为训练集和验证集\n",
    "X_train, X_val, y_train, y_val = train_test_split(X_train, y_train, test_size=0.2, random_state=0,\n",
    "                                                    stratify = y_train)\n",
    "\n",
    "# 显示切分的结果\n",
    "print (\"Training set has {} samples.\".format(X_train.shape[0]))\n",
    "print (\"Validation set has {} samples.\".format(X_val.shape[0]))\n",
    "print (\"Testing set has {} samples.\".format(X_test.shape[0]))"
   ]
  },
  {
   "cell_type": "markdown",
   "metadata": {},
   "source": [
    "----\n",
    "## 评价模型性能"
   ]
  },
  {
   "cell_type": "markdown",
   "metadata": {},
   "source": [
    "### 评价方法和朴素的预测器\n",
    "使用**F-beta score**作为评价指标，这样能够同时考虑查准率和查全率：\n",
    "\n",
    "$$ F_{\\beta} = (1 + \\beta^2) \\cdot \\frac{precision \\cdot recall}{\\left( \\beta^2 \\cdot precision \\right) + recall} $$\n",
    "\n",
    "\n",
    "尤其是，当 $\\beta = 0.5$ 的时候更多的强调查准率，这叫做**F$_{0.5}$ score** （或者为了简单叫做F-score）。"
   ]
  },
  {
   "cell_type": "markdown",
   "metadata": {},
   "source": [
    "## 监督学习模型"
   ]
  },
  {
   "cell_type": "markdown",
   "metadata": {},
   "source": [
    "### 训练和预测的流水线\n",
    "为了正确评估你选择的每一个模型的性能，创建一个能够快速有效地使用不同大小的训练集并在验证集上做预测的训练和验证的方法。\n",
    "\n",
    " - 从[`sklearn.metrics`](http://scikit-learn.org/stable/modules/classes.html#sklearn-metrics-metrics)中导入`fbeta_score`和`accuracy_score`。\n",
    " - 用训练集拟合学习器，并记录训练时间。\n",
    " - 对训练集的数据点和验证集进行预测并记录预测时间。\n",
    " - 计算预测训练集数据点的准确率和F-score。\n",
    " - 计算预测验证集的准确率和F-score。\n",
    " - 计算预测测试集的准确率和F-score。"
   ]
  },
  {
   "cell_type": "code",
   "execution_count": 6,
   "metadata": {},
   "outputs": [],
   "source": [
    "# 从sklearn中导入两个评价指标 - fbeta_score和accuracy_score\n",
    "from sklearn.metrics import fbeta_score, accuracy_score\n",
    "\n",
    "def train_predict_test(learner, sample_size, X_train, y_train, X_val, y_val, X_test, y_test): \n",
    "    '''\n",
    "    inputs:\n",
    "       - learner: the learning algorithm to be trained and predicted on\n",
    "       - sample_size: the size of samples (number) to be drawn from training set\n",
    "       - X_train: features training set\n",
    "       - y_train: income training set\n",
    "       - X_val: features validation set\n",
    "       - y_val: income validation set\n",
    "    '''\n",
    "    \n",
    "    results = {}\n",
    "    \n",
    "    # 使用sample_size大小的训练数据来拟合学习器\n",
    "    start = time() # 获得程序开始时间\n",
    "    learner.fit(X_train[:sample_size], y_train[:sample_size])\n",
    "    end = time() # 获得程序结束时间\n",
    "    \n",
    "    # TODO：计算训练时间\n",
    "    results['train_time'] = end - start\n",
    "    \n",
    "    # 得到在验证集上的预测值\n",
    "    # 得到对前300个训练数据的预测结果\n",
    "    # 得到测试集的预测结果\n",
    "    start = time() # 获得程序开始时间\n",
    "    predictions_val = learner.predict(X_val)\n",
    "    predictions_train = learner.predict(X_train[:300])\n",
    "    predictions_test = learner.predict(X_test)\n",
    "    end = time() # 获得程序结束时间\n",
    "    \n",
    "    # 计算预测用时\n",
    "    results['pred_time'] = end - start\n",
    "            \n",
    "    # 计算在最前面的300个训练数据的准确率\n",
    "    results['acc_train'] = accuracy_score(y_train[:300], predictions_train)\n",
    "        \n",
    "    # 计算在验证上的准确率\n",
    "    results['acc_val'] = accuracy_score(y_val, predictions_val)\n",
    "    \n",
    "    # 计算在测试集上的准确率\n",
    "    results['acc_test'] = accuracy_score(y_test, predictions_test)\n",
    "    \n",
    "    # 计算在最前面300个训练数据上的F-score\n",
    "    results['f_train'] = fbeta_score(y_train[:300], predictions_train, beta=0.5)\n",
    "        \n",
    "    # 计算验证集上的F-score\n",
    "    results['f_val'] = fbeta_score(y_val, predictions_val, beta=0.5)\n",
    "    \n",
    "    # 计算测试集上的F-score\n",
    "    results['f_test'] = fbeta_score(y_test, predictions_test, beta=0.5)\n",
    "       \n",
    "    # 成功\n",
    "    print (\"{} trained on {} samples.\".format(learner.__class__.__name__, sample_size))\n",
    "        \n",
    "    # 返回结果\n",
    "    return results"
   ]
  },
  {
   "cell_type": "markdown",
   "metadata": {},
   "source": [
    "### 初始模型的评估--使用数据的所有特征进行训练                         \n",
    "- 初始化模型并存储在`'clf_A'`，`'clf_B'`中。            \n",
    "  - 设置`random_state`  (如果有这个参数)。       \n",
    "- 计算1%， 10%， 100%的训练数据分别对应多少个数据点，并将这些值存储在`'samples_1'`, `'samples_10'`, `'samples_100'`中"
   ]
  },
  {
   "cell_type": "code",
   "execution_count": 8,
   "metadata": {},
   "outputs": [
    {
     "name": "stdout",
     "output_type": "stream",
     "text": [
      "DecisionTreeClassifier trained on 16937 samples.\n",
      "LogisticRegression trained on 16937 samples.\n",
      "{'DecisionTreeClassifier': {'train_time': 0.1466996669769287, 'pred_time': 0.012371301651000977, 'acc_train': 0.8466666666666667, 'acc_val': 0.6462809917355372, 'acc_test': 0.6423578310976762, 'f_train': 0.8459595959595959, 'f_val': 0.46974256101638245, 'f_test': 0.4639585822381522}, 'LogisticRegression': {'train_time': 0.7007486820220947, 'pred_time': 0.018429040908813477, 'acc_train': 0.6566666666666666, 'acc_val': 0.6817001180637544, 'acc_test': 0.6793878707727187, 'f_train': 0.46875000000000006, 'f_val': 0.5024347056219567, 'f_test': 0.4927774730298043}}\n"
     ]
    },
    {
     "name": "stderr",
     "output_type": "stream",
     "text": [
      "/home/aaron/anaconda3/envs/xdf/lib/python3.9/site-packages/sklearn/linear_model/_logistic.py:763: ConvergenceWarning: lbfgs failed to converge (status=1):\n",
      "STOP: TOTAL NO. of ITERATIONS REACHED LIMIT.\n",
      "\n",
      "Increase the number of iterations (max_iter) or scale the data as shown in:\n",
      "    https://scikit-learn.org/stable/modules/preprocessing.html\n",
      "Please also refer to the documentation for alternative solver options:\n",
      "    https://scikit-learn.org/stable/modules/linear_model.html#logistic-regression\n",
      "  n_iter_i = _check_optimize_result(\n"
     ]
    }
   ],
   "source": [
    "# 从sklearn中导入监督学习模型\n",
    "import math\n",
    "from sklearn.tree import DecisionTreeClassifier\n",
    "from sklearn.svm import SVC\n",
    "from sklearn.linear_model import LogisticRegression\n",
    "\n",
    "# 初始化模型\n",
    "clf_A = DecisionTreeClassifier(random_state=2)\n",
    "clf_B = LogisticRegression(random_state=2)\n",
    "samples_100 = X_train.shape[0]\n",
    "\n",
    "# 收集学习器的结果\n",
    "results1 = {}\n",
    "\n",
    "# 决策树训练\n",
    "# 收集学习器的结果\n",
    "results1['DecisionTreeClassifier'] = train_predict_test(clf_A, samples_100, X_train, y_train, X_val, y_val, X_test, y_test)\n",
    "\n",
    "# 逻辑回归训练\n",
    "results1['LogisticRegression'] = train_predict_test(clf_B, samples_100, X_train, y_train, X_val, y_val, X_test, y_test)\n",
    "\n",
    "# 输出模型训练结果\n",
    "print(results1)"
   ]
  },
  {
   "cell_type": "markdown",
   "metadata": {},
   "source": [
    "----\n",
    "## 特征的重要性\n",
    "\n",
    "在数据上使用监督学习算法的一个重要的任务是决定哪些特征能够提供最强的预测能力。专注于少量的有效特征和标签之间的关系，能够更加简单地理解这些现象。在这个项目的情境下这表示我们希望选择一小部分特征，这些特征能够在预测学生是否报下一个季度这个问题上有很强的预测能力。\n",
    "\n",
    "选择一个有 `'feature_importance_'` 属性的scikit学习分类器（例如 AdaBoost，随机森林）。`'feature_importance_'` 属性是对特征的重要性排序的函数。在下面代码单元中用这个分类器拟合训练集数据并使用这个属性来决定输入数据中最重要的5个特征。"
   ]
  },
  {
   "cell_type": "markdown",
   "metadata": {},
   "source": [
    "### 提取特征重要性\n",
    "\n",
    "选择一个`scikit-learn`中有`feature_importance_`属性的监督学习分类器，这个属性是一个在做预测的时候根据所选择的算法来对特征重要性进行排序的功能。"
   ]
  },
  {
   "cell_type": "code",
   "execution_count": 9,
   "metadata": {},
   "outputs": [
    {
     "name": "stderr",
     "output_type": "stream",
     "text": [
      "/home/aaron/anaconda3/envs/xdf/lib/python3.9/site-packages/matplotlib/backends/backend_agg.py:240: RuntimeWarning: Glyph 21542 missing from current font.\n",
      "  font.set_text(s, 0.0, flags=flags)\n",
      "/home/aaron/anaconda3/envs/xdf/lib/python3.9/site-packages/matplotlib/backends/backend_agg.py:203: RuntimeWarning: Glyph 21542 missing from current font.\n",
      "  font.set_text(s, 0, flags=flags)\n"
     ]
    },
    {
     "data": {
      "image/png": "[encoded data removed]",
      "text/plain": [
       "<Figure size 648x360 with 1 Axes>"
      ]
     },
     "metadata": {
      "needs_background": "light"
     },
     "output_type": "display_data"
    }
   ],
   "source": [
    "# 导入一个有'feature_importances_'的监督学习模型\n",
    "\n",
    "# 在训练集上训练一个监督学习模型\n",
    "model = DecisionTreeClassifier()\n",
    "model.fit(X_train, y_train)\n",
    "\n",
    "# TODO： 提取特征重要性\n",
    "importances = model.feature_importances_\n",
    "\n",
    "# 绘图\n",
    "vs.feature_plot(importances, X_train, y_train)"
   ]
  },
  {
   "cell_type": "markdown",
   "metadata": {},
   "source": [
    "### 特征选择\n",
    "\n",
    "通过使用更少的特征来训练，在评价指标的角度来看我们的期望是训练和预测的时间会更少。从上面的可视化来看，我们可以看到前五个最重要的特征贡献了数据中**所有**特征中超过一半的重要性。这提示我们可以尝试去**减小特征空间**，简化模型需要学习的信息。下面代码单元将**只使用五个最重要的特征**在相同的训练集上训练模型。"
   ]
  },
  {
   "cell_type": "code",
   "execution_count": 10,
   "metadata": {},
   "outputs": [
    {
     "name": "stdout",
     "output_type": "stream",
     "text": [
      "DecisionTreeClassifier trained on 16937 samples.\n",
      "LogisticRegression trained on 16937 samples.\n",
      "{'DecisionTreeClassifier': {'train_time': 0.022650718688964844, 'pred_time': 0.004883527755737305, 'acc_train': 0.8, 'acc_val': 0.6481700118063755, 'acc_test': 0.6506706971471755, 'f_train': 0.7724719101123595, 'f_val': 0.4512428298279159, 'f_test': 0.456968773800457}, 'LogisticRegression': {'train_time': 0.017423629760742188, 'pred_time': 0.004334926605224609, 'acc_train': 0.6633333333333333, 'acc_val': 0.6779220779220779, 'acc_test': 0.6771207254864916, 'f_train': 0.4647435897435897, 'f_val': 0.48410061699098245, 'f_test': 0.47642533043992896}}\n"
     ]
    }
   ],
   "source": [
    "# 减小特征空间\n",
    "X_train_reduced = X_train[X_train.columns.values[(np.argsort(importances)[::-1])[:5]]]\n",
    "X_val_reduced = X_val[X_val.columns.values[(np.argsort(importances)[::-1])[:5]]]\n",
    "X_test_reduced = X_test[X_test.columns.values[(np.argsort(importances)[::-1])[:5]]]\n",
    "\n",
    "# 做一个新的预测\n",
    "# 初始化模型\n",
    "clf_A2 = DecisionTreeClassifier(random_state=2)\n",
    "clf_B2 = LogisticRegression(random_state=2)\n",
    "\n",
    "# 收集学习器的结果\n",
    "results2 = {}\n",
    "\n",
    "# 决策树训练\n",
    "# 收集学习器的结果\n",
    "results2['DecisionTreeClassifier'] = train_predict_test(clf_A2, samples_100, X_train_reduced, y_train, X_val_reduced, y_val, X_test_reduced, y_test)\n",
    "\n",
    "# 逻辑回归训练\n",
    "results2['LogisticRegression'] = train_predict_test(clf_B2, samples_100, X_train_reduced, y_train, X_val_reduced, y_val, X_test_reduced, y_test)\n",
    "\n",
    "# 输出模型训练结果\n",
    "print(results2)"
   ]
  }
 ],
 "metadata": {
  "anaconda-cloud": {},
  "kernelspec": {
   "display_name": "anaconda(xdf)",
   "language": "python",
   "name": "anaconda-xdf"
  },
  "language_info": {
   "codemirror_mode": {
    "name": "ipython",
    "version": 3
   },
   "file_extension": ".py",
   "mimetype": "text/x-python",
   "name": "python",
   "nbconvert_exporter": "python",
   "pygments_lexer": "ipython3",
   "version": "3.9.5"
  }
 },
 "nbformat": 4,
 "nbformat_minor": 1
}
